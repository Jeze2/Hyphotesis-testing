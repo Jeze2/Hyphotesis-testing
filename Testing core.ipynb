{
 "cells": [
  {
   "cell_type": "markdown",
   "id": "b9e5b4d5",
   "metadata": {},
   "source": [
    "Hypothesis Testing\n",
    "Answer the following Questions:\n",
    "\n",
    "    Q1. Do smokers have higher insurance charges than non-smokers?\n",
    "    Q2. Are men more likely to smoke than women?\n",
    "    Q3. Do different regions have different charges, on average?\n",
    "\n",
    "For each question, make sure to:\n",
    "\n",
    "    State your Null Hypothesis and Alternative Hypothesis\n",
    "    Select the correct test according to the data type and number of samples\n",
    "    Test the assumptions of your selected test.\n",
    "    Execute the selected test, or the alternative test (if you do not meet the assumptions)\n",
    "    Interpret your p-value and reject or fail to reject your null hypothesis\n",
    "    Show a supporting visualization that helps display the result\n",
    "\n"
   ]
  },
  {
   "cell_type": "code",
   "execution_count": 4,
   "id": "3546baf5",
   "metadata": {},
   "outputs": [],
   "source": [
    "import pandas as pd\n",
    "import numpy as np"
   ]
  },
  {
   "cell_type": "code",
   "execution_count": 5,
   "id": "48e4df3a",
   "metadata": {},
   "outputs": [
    {
     "data": {
      "text/html": [
       "<div>\n",
       "<style scoped>\n",
       "    .dataframe tbody tr th:only-of-type {\n",
       "        vertical-align: middle;\n",
       "    }\n",
       "\n",
       "    .dataframe tbody tr th {\n",
       "        vertical-align: top;\n",
       "    }\n",
       "\n",
       "    .dataframe thead th {\n",
       "        text-align: right;\n",
       "    }\n",
       "</style>\n",
       "<table border=\"1\" class=\"dataframe\">\n",
       "  <thead>\n",
       "    <tr style=\"text-align: right;\">\n",
       "      <th></th>\n",
       "      <th>age</th>\n",
       "      <th>sex</th>\n",
       "      <th>bmi</th>\n",
       "      <th>children</th>\n",
       "      <th>smoker</th>\n",
       "      <th>region</th>\n",
       "      <th>charges</th>\n",
       "    </tr>\n",
       "  </thead>\n",
       "  <tbody>\n",
       "    <tr>\n",
       "      <th>0</th>\n",
       "      <td>19</td>\n",
       "      <td>female</td>\n",
       "      <td>27.900</td>\n",
       "      <td>0</td>\n",
       "      <td>yes</td>\n",
       "      <td>southwest</td>\n",
       "      <td>16884.92400</td>\n",
       "    </tr>\n",
       "    <tr>\n",
       "      <th>1</th>\n",
       "      <td>18</td>\n",
       "      <td>male</td>\n",
       "      <td>33.770</td>\n",
       "      <td>1</td>\n",
       "      <td>no</td>\n",
       "      <td>southeast</td>\n",
       "      <td>1725.55230</td>\n",
       "    </tr>\n",
       "    <tr>\n",
       "      <th>2</th>\n",
       "      <td>28</td>\n",
       "      <td>male</td>\n",
       "      <td>33.000</td>\n",
       "      <td>3</td>\n",
       "      <td>no</td>\n",
       "      <td>southeast</td>\n",
       "      <td>4449.46200</td>\n",
       "    </tr>\n",
       "    <tr>\n",
       "      <th>3</th>\n",
       "      <td>33</td>\n",
       "      <td>male</td>\n",
       "      <td>22.705</td>\n",
       "      <td>0</td>\n",
       "      <td>no</td>\n",
       "      <td>northwest</td>\n",
       "      <td>21984.47061</td>\n",
       "    </tr>\n",
       "    <tr>\n",
       "      <th>4</th>\n",
       "      <td>32</td>\n",
       "      <td>male</td>\n",
       "      <td>28.880</td>\n",
       "      <td>0</td>\n",
       "      <td>no</td>\n",
       "      <td>northwest</td>\n",
       "      <td>3866.85520</td>\n",
       "    </tr>\n",
       "  </tbody>\n",
       "</table>\n",
       "</div>"
      ],
      "text/plain": [
       "   age     sex     bmi  children smoker     region      charges\n",
       "0   19  female  27.900         0    yes  southwest  16884.92400\n",
       "1   18    male  33.770         1     no  southeast   1725.55230\n",
       "2   28    male  33.000         3     no  southeast   4449.46200\n",
       "3   33    male  22.705         0     no  northwest  21984.47061\n",
       "4   32    male  28.880         0     no  northwest   3866.85520"
      ]
     },
     "execution_count": 5,
     "metadata": {},
     "output_type": "execute_result"
    }
   ],
   "source": [
    "# Read a CSV file\n",
    "df = pd.read_csv('insurance - insurance.csv')\n",
    "\n",
    "# Display the first few rows of the DataFrame\n",
    "df.head()"
   ]
  },
  {
   "cell_type": "code",
   "execution_count": null,
   "id": "05e786c1",
   "metadata": {},
   "outputs": [],
   "source": [
    "Q1. Do smokers have higher insurance charges than non-smokers?"
   ]
  },
  {
   "cell_type": "markdown",
   "id": "bae49c5a",
   "metadata": {},
   "source": [
    "- Null hypothesis (H0): There is no difference in insurance charges between smokers and non-smokers. \n",
    "- Alternative hypothesis (Ha): Smokers have higher insurance charges than non-smokers"
   ]
  },
  {
   "cell_type": "code",
   "execution_count": 6,
   "id": "d94c05f0",
   "metadata": {},
   "outputs": [
    {
     "data": {
      "text/plain": [
       "<Axes: xlabel='smoker', ylabel='charges'>"
      ]
     },
     "execution_count": 6,
     "metadata": {},
     "output_type": "execute_result"
    },
    {
     "data": {
      "image/png": "[encoded data removed]",
      "text/plain": [
       "<Figure size 640x480 with 1 Axes>"
      ]
     },
     "metadata": {},
     "output_type": "display_data"
    }
   ],
   "source": [
    "#Checking for outliers\n",
    "import seaborn as sns\n",
    "sns.boxplot(data=df, x='smoker', y='charges')"
   ]
  },
  {
   "cell_type": "code",
   "execution_count": 8,
   "id": "5fc234b4",
   "metadata": {},
   "outputs": [],
   "source": [
    "# Filtering out\n",
    "smoker = df.loc[df['smoker'] == \"yes\"]\n",
    "no_smoker = df.loc[df['smoker']== \"no\" ]"
   ]
  },
  {
   "cell_type": "code",
   "execution_count": 9,
   "id": "c9c6254a",
   "metadata": {},
   "outputs": [],
   "source": [
    "# point of interest\n",
    "smoker_charges = smoker['charges']\n",
    "no_smoker_charges = no_smoker['charges']"
   ]
  },
  {
   "cell_type": "code",
   "execution_count": 13,
   "id": "585dc735",
   "metadata": {},
   "outputs": [
    {
     "data": {
      "text/plain": [
       "NormaltestResult(statistic=61.03941356533816, pvalue=5.564930630036463e-14)"
      ]
     },
     "execution_count": 13,
     "metadata": {},
     "output_type": "execute_result"
    }
   ],
   "source": [
    "import scipy.stats as stats\n",
    "# test the smoker group for normality\n",
    "smoker_charges = stats.normaltest(smoker_charges)\n",
    "smoker_charges\n"
   ]
  },
  {
   "cell_type": "code",
   "execution_count": 8,
   "id": "c814ff5f",
   "metadata": {},
   "outputs": [
    {
     "data": {
      "text/plain": [
       "TtestResult(statistic=32.751887766341824, pvalue=5.88946444671698e-103, df=311.85112492054634)"
      ]
     },
     "execution_count": 8,
     "metadata": {},
     "output_type": "execute_result"
    }
   ],
   "source": [
    "# Independent t-test\n",
    "result = stats.ttest_ind(smoker_charges, no_smoker_charges, equal_var = False)\n",
    "result"
   ]
  },
  {
   "cell_type": "code",
   "execution_count": 14,
   "id": "aab83e55",
   "metadata": {},
   "outputs": [
    {
     "data": {
      "text/plain": [
       "LeveneResult(statistic=2.1546152198367587, pvalue=0.1424375860306192)"
      ]
     },
     "execution_count": 14,
     "metadata": {},
     "output_type": "execute_result"
    }
   ],
   "source": [
    "# Test for equal variance\n",
    "result = stats.levene(smoker_charges, no_smoker_charges)\n",
    "result\n",
    "\n"
   ]
  },
  {
   "cell_type": "markdown",
   "id": "4bae0f4f",
   "metadata": {},
   "source": [
    "- A p-value less than .05 tells us we can reject the null hypothesis.\n"
   ]
  },
  {
   "cell_type": "code",
   "execution_count": 9,
   "id": "32fd540f",
   "metadata": {},
   "outputs": [
    {
     "data": {
      "image/png": "[encoded data removed]",
      "text/plain": [
       "<Figure size 640x480 with 1 Axes>"
      ]
     },
     "metadata": {},
     "output_type": "display_data"
    }
   ],
   "source": [
    "import matplotlib.pyplot as plt\n",
    "import seaborn as sns\n",
    "ax = sns.barplot(data=df, x='smoker', y=\"charges\")"
   ]
  },
  {
   "cell_type": "markdown",
   "id": "c604e9d3",
   "metadata": {},
   "source": [
    " Q2. Are men more likely to smoke than women?"
   ]
  },
  {
   "cell_type": "markdown",
   "id": "c4b49642",
   "metadata": {},
   "source": [
    "- Null hypothesis (H0): There is no difference in smoking rates between men and women.\n",
    "  Alternative hypothesis (Ha): Men have higher smoking rates than women.\n"
   ]
  },
  {
   "cell_type": "code",
   "execution_count": 10,
   "id": "8154fd58",
   "metadata": {},
   "outputs": [
    {
     "data": {
      "text/html": [
       "<div>\n",
       "<style scoped>\n",
       "    .dataframe tbody tr th:only-of-type {\n",
       "        vertical-align: middle;\n",
       "    }\n",
       "\n",
       "    .dataframe tbody tr th {\n",
       "        vertical-align: top;\n",
       "    }\n",
       "\n",
       "    .dataframe thead th {\n",
       "        text-align: right;\n",
       "    }\n",
       "</style>\n",
       "<table border=\"1\" class=\"dataframe\">\n",
       "  <thead>\n",
       "    <tr style=\"text-align: right;\">\n",
       "      <th>smoker</th>\n",
       "      <th>no</th>\n",
       "      <th>yes</th>\n",
       "    </tr>\n",
       "    <tr>\n",
       "      <th>sex</th>\n",
       "      <th></th>\n",
       "      <th></th>\n",
       "    </tr>\n",
       "  </thead>\n",
       "  <tbody>\n",
       "    <tr>\n",
       "      <th>female</th>\n",
       "      <td>547</td>\n",
       "      <td>115</td>\n",
       "    </tr>\n",
       "    <tr>\n",
       "      <th>male</th>\n",
       "      <td>517</td>\n",
       "      <td>159</td>\n",
       "    </tr>\n",
       "  </tbody>\n",
       "</table>\n",
       "</div>"
      ],
      "text/plain": [
       "smoker   no  yes\n",
       "sex             \n",
       "female  547  115\n",
       "male    517  159"
      ]
     },
     "execution_count": 10,
     "metadata": {},
     "output_type": "execute_result"
    }
   ],
   "source": [
    "# calculate the contingency table with pd.cross-tab\n",
    "table = pd.crosstab(df['sex'], df['smoker'])\n",
    "table\n",
    "\n"
   ]
  },
  {
   "cell_type": "code",
   "execution_count": 15,
   "id": "34e33ec2",
   "metadata": {},
   "outputs": [
    {
     "name": "stdout",
     "output_type": "stream",
     "text": [
      "0.006548143503580696\n"
     ]
    },
    {
     "data": {
      "text/plain": [
       "True"
      ]
     },
     "execution_count": 15,
     "metadata": {},
     "output_type": "execute_result"
    }
   ],
   "source": [
    "# Run the Test and Save the Output\n",
    "results = stats.chi2_contingency(table)\n",
    "chi2, p, deg_free, expected_vals = results #this labels the results\n",
    "print(p)\n",
    "p<.05\n",
    "\n"
   ]
  },
  {
   "cell_type": "markdown",
   "id": "4b2fab11",
   "metadata": {},
   "source": [
    "- A p-value less than .05 tells us we can reject the null hypothesis.\n"
   ]
  },
  {
   "cell_type": "code",
   "execution_count": 25,
   "id": "2cc0f3d8",
   "metadata": {},
   "outputs": [
    {
     "data": {
      "image/png": "[encoded data removed]",
      "text/plain": [
       "<Figure size 640x480 with 1 Axes>"
      ]
     },
     "metadata": {},
     "output_type": "display_data"
    }
   ],
   "source": [
    "ax = sns.countplot(data=df, x='sex',hue='smoker',)\n",
    "ax.set_title(\"Number of Smokers by Sex\");\n",
    "\n"
   ]
  },
  {
   "cell_type": "code",
   "execution_count": null,
   "id": "055ea79b",
   "metadata": {},
   "outputs": [],
   "source": [
    " Q3. Do different regions have different charges, on average?"
   ]
  },
  {
   "cell_type": "markdown",
   "id": "a2295103",
   "metadata": {},
   "source": [
    "- Null hypothesis (H0): There is no difference in average charges between regions.\n",
    "  Alternative hypothesis (Ha): Average charges differ between regions.\n"
   ]
  },
  {
   "cell_type": "code",
   "execution_count": 27,
   "id": "a4627ca5",
   "metadata": {},
   "outputs": [],
   "source": [
    "charges = df['charges']\n",
    "region = df['region']"
   ]
  },
  {
   "cell_type": "code",
   "execution_count": 29,
   "id": "98033a41",
   "metadata": {},
   "outputs": [
    {
     "data": {
      "text/plain": [
       "7"
      ]
     },
     "execution_count": 29,
     "metadata": {},
     "output_type": "execute_result"
    }
   ],
   "source": [
    "#testing for outliers\n",
    "zscores_f = stats.zscore(charges)\n",
    "outliers_f = abs(zscores_f)>3\n",
    "np.sum(outliers_f)\n"
   ]
  },
  {
   "cell_type": "code",
   "execution_count": 31,
   "id": "e33d3567",
   "metadata": {},
   "outputs": [
    {
     "data": {
      "text/plain": [
       "NormaltestResult(statistic=336.8851220567733, pvalue=7.019807901276197e-74)"
      ]
     },
     "execution_count": 31,
     "metadata": {},
     "output_type": "execute_result"
    }
   ],
   "source": [
    "# normal test charges\n",
    "result_m = stats.normaltest(charges)\n",
    "result_m\n"
   ]
  },
  {
   "cell_type": "code",
   "execution_count": 34,
   "id": "e08e2af9",
   "metadata": {},
   "outputs": [
    {
     "data": {
      "text/plain": [
       "0       16884.92400\n",
       "1        1725.55230\n",
       "2        4449.46200\n",
       "3       21984.47061\n",
       "4        3866.85520\n",
       "           ...     \n",
       "1333    10600.54830\n",
       "1334     2205.98080\n",
       "1335     1629.83350\n",
       "1336     2007.94500\n",
       "1337    29141.36030\n",
       "Name: charges, Length: 1322, dtype: float64"
      ]
     },
     "execution_count": 34,
     "metadata": {},
     "output_type": "execute_result"
    }
   ],
   "source": [
    "charges = charges[(np.abs(stats.zscore(charges)) < 3)]\n"
   ]
  },
  {
   "cell_type": "code",
   "execution_count": 38,
   "id": "54301576",
   "metadata": {},
   "outputs": [
    {
     "data": {
      "text/plain": [
       "ShapiroResult(statistic=0.8206338286399841, pvalue=4.910881274371761e-36)"
      ]
     },
     "execution_count": 38,
     "metadata": {},
     "output_type": "execute_result"
    }
   ],
   "source": [
    "# Perform Shapiro-Wilk test\n",
    "shapiro_results = shapiro(charges)\n",
    "shapiro_results"
   ]
  },
  {
   "cell_type": "code",
   "execution_count": 26,
   "id": "f03e6cd2",
   "metadata": {},
   "outputs": [
    {
     "name": "stdout",
     "output_type": "stream",
     "text": [
      "dict_keys(['southwest', 'southeast', 'northwest', 'northeast'])\n"
     ]
    }
   ],
   "source": [
    "# Initialize an empty dictionary to store groups\n",
    "groups = {}\n",
    "\n",
    "# Loop through unique categories in the 'region' column of your DataFrame\n",
    "for region_category in df['region'].unique():\n",
    "    # Create a series containing 'charges' data for the current region\n",
    "    charges_data = df.loc[df['region'] == region_category, 'charges'].copy()\n",
    "    \n",
    "    # Store the charges data into the dictionary with the region_category as the key\n",
    "    groups[region_category] = charges_data\n",
    "\n",
    "# Print the keys of the groups dictionary to see the unique regions\n",
    "print(groups.keys())\n"
   ]
  },
  {
   "cell_type": "code",
   "execution_count": 27,
   "id": "2ac9c4e3",
   "metadata": {},
   "outputs": [
    {
     "name": "stdout",
     "output_type": "stream",
     "text": [
      "LeveneResult(statistic=5.559966758410606, pvalue=0.0008610590250786703)\n"
     ]
    }
   ],
   "source": [
    "import scipy.stats as stats\n",
    "\n",
    "# Pass the values from the 'groups' dictionary to stats.levene using the * operator\n",
    "result = stats.levene(*groups.values())\n",
    "\n",
    "# Print the result or perform further analysis\n",
    "print(result)"
   ]
  },
  {
   "cell_type": "markdown",
   "id": "1570e968",
   "metadata": {},
   "source": [
    "- A p-value less than .05 tells us we can reject the null hypothesis.\n"
   ]
  },
  {
   "cell_type": "code",
   "execution_count": 28,
   "id": "484454e3",
   "metadata": {},
   "outputs": [
    {
     "name": "stdout",
     "output_type": "stream",
     "text": [
      "Result of the one-way ANOVA test:\n",
      "F_onewayResult(statistic=2.96962669358912, pvalue=0.0308933560705201)\n"
     ]
    }
   ],
   "source": [
    "import scipy.stats as stats\n",
    "\n",
    "# Perform a one-way ANOVA test using the * operator to pass group values\n",
    "anova_result = stats.f_oneway(*groups.values())\n",
    "\n",
    "# Display the result of the one-way ANOVA test\n",
    "print(\"Result of the one-way ANOVA test:\")\n",
    "print(anova_result)\n"
   ]
  },
  {
   "cell_type": "code",
   "execution_count": 32,
   "id": "67ed3c5d",
   "metadata": {},
   "outputs": [
    {
     "name": "stdout",
     "output_type": "stream",
     "text": [
      "Summary of Tukey's Multiple Comparison Test:\n",
      "       Multiple Comparison of Means - Tukey HSD, FWER=0.05       \n",
      "=================================================================\n",
      "  group1    group2   meandiff  p-adj    lower      upper   reject\n",
      "-----------------------------------------------------------------\n",
      "northeast northwest  -988.8091 0.7245 -3428.9343 1451.3161  False\n",
      "northeast southeast  1329.0269 0.4745 -1044.9417 3702.9955  False\n",
      "northeast southwest -1059.4471 0.6792 -3499.5723 1380.6781  False\n",
      "northwest southeast  2317.8361 0.0583   -54.1994 4689.8716  False\n",
      "northwest southwest    -70.638 0.9999 -2508.8826 2367.6066  False\n",
      "southeast southwest -2388.4741 0.0477 -4760.5096  -16.4386   True\n",
      "-----------------------------------------------------------------\n"
     ]
    }
   ],
   "source": [
    "from statsmodels.stats.multicomp import pairwise_tukeyhsd\n",
    "\n",
    "\n",
    "# Extract the 'charges' values and 'region' labels\n",
    "charges_values = df['charges']\n",
    "region_labels = df['region']\n",
    "\n",
    "# Perform Tukey's multiple comparison test\n",
    "tukeys_results = pairwise_tukeyhsd(charges_values, region_labels)\n",
    "\n",
    "# Display the summary of Tukey's test results\n",
    "print(\"Summary of Tukey's Multiple Comparison Test:\")\n",
    "print(tukeys_results.summary())"
   ]
  },
  {
   "cell_type": "code",
   "execution_count": 33,
   "id": "26998794",
   "metadata": {},
   "outputs": [
    {
     "data": {
      "image/png": "[encoded data removed]",
      "text/plain": [
       "<Figure size 1000x600 with 1 Axes>"
      ]
     },
     "metadata": {},
     "output_type": "display_data"
    }
   ],
   "source": [
    "import seaborn as sns\n",
    "import matplotlib.pyplot as plt\n",
    "\n",
    "# Assuming you have a DataFrame named 'df' with columns 'region' and 'charges'\n",
    "\n",
    "# Create a bar plot to visualize charges by region\n",
    "plt.figure(figsize=(10, 6))\n",
    "sns.barplot(data=df, x='region', y='charges')\n",
    "plt.title('Charges by Region')\n",
    "plt.xlabel('Region')\n",
    "plt.ylabel('Charges')\n",
    "plt.xticks(rotation=45)  # Rotate x-axis labels for better readability\n",
    "plt.tight_layout()\n",
    "\n",
    "# Show the plot\n",
    "plt.show()\n"
   ]
  }
 ],
 "metadata": {
  "kernelspec": {
   "display_name": "Python (dojo-env)",
   "language": "python",
   "name": "dojo-env"
  },
  "language_info": {
   "codemirror_mode": {
    "name": "ipython",
    "version": 3
   },
   "file_extension": ".py",
   "mimetype": "text/x-python",
   "name": "python",
   "nbconvert_exporter": "python",
   "pygments_lexer": "ipython3",
   "version": "3.11.4"
  }
 },
 "nbformat": 4,
 "nbformat_minor": 5
}
